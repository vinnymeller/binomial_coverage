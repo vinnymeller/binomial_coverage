{
 "cells": [
  {
   "cell_type": "code",
   "execution_count": 5,
   "metadata": {},
   "outputs": [],
   "source": [
    "import operator as op\n",
    "import matplotlib.pyplot as plt\n",
    "import ipywidgets as widgets\n",
    "from ipywidgets import interact_manual\n",
    "from ipywidgets import FloatSlider, IntSlider\n",
    "from functools import reduce\n",
    "from decimal import *\n",
    "%matplotlib notebook"
   ]
  },
  {
   "cell_type": "code",
   "execution_count": 6,
   "metadata": {},
   "outputs": [],
   "source": [
    "# n choose r function\n",
    "def ncr(n, r):\n",
    "    r = min(r, n-r)\n",
    "    numer = reduce(op.mul, range(n, n-r, -1), 1)\n",
    "    denom = reduce(op.mul, range(1, r+1), 1)\n",
    "    return Decimal(numer // denom)"
   ]
  },
  {
   "cell_type": "code",
   "execution_count": 7,
   "metadata": {},
   "outputs": [],
   "source": [
    "def show_graph(n,p):\n",
    "    p = float(p)\n",
    "    xs = []\n",
    "    ys = []\n",
    "    q = 1 - p\n",
    "    for i in range(10, n, 1):\n",
    "        coverage = Decimal(0.0)\n",
    "        for j in range(i+1):\n",
    "            Phat = float(j/i)\n",
    "            ci_low = Phat - (1.96 * (Phat * (1 - Phat))**(1/2))/(i**(1/2))\n",
    "            ci_high = Phat + (1.96 * (Phat * (1 - Phat))**(1/2))/(i**(1/2))\n",
    "            Phat_prob = Decimal(p**j) * Decimal(q**(i-j)) * ncr(i, j)\n",
    "            if (p >= ci_low) and (p <= ci_high):\n",
    "                coverage += Phat_prob\n",
    "        xs.append(i)\n",
    "        ys.append(coverage)\n",
    "    fig=plt.figure(figsize=(12, 10), dpi= 80, facecolor='w', edgecolor='k')\n",
    "    plt.xlabel('n')\n",
    "    plt.ylabel('coverage')\n",
    "    plt.plot(xs, ys, linewidth=0.5)\n",
    "    plt.grid()"
   ]
  },
  {
   "cell_type": "code",
   "execution_count": 8,
   "metadata": {},
   "outputs": [
    {
     "data": {
      "application/vnd.jupyter.widget-view+json": {
       "model_id": "b6b545419ada4d77b97a74e426e85720",
       "version_major": 2,
       "version_minor": 0
      },
      "text/plain": [
       "interactive(children=(IntSlider(value=200, description='n', max=3000, min=20), Text(value='0.5', description='…"
      ]
     },
     "metadata": {},
     "output_type": "display_data"
    },
    {
     "data": {
      "text/plain": [
       "<function __main__.show_graph(n, p)>"
      ]
     },
     "execution_count": 8,
     "metadata": {},
     "output_type": "execute_result"
    }
   ],
   "source": [
    "interact_manual(show_graph, n=IntSlider(value=200, min=20, max=3000, step=1), p=widgets.Text(value='0.5'))"
   ]
  },
  {
   "cell_type": "code",
   "execution_count": null,
   "metadata": {},
   "outputs": [],
   "source": []
  },
  {
   "cell_type": "code",
   "execution_count": null,
   "metadata": {},
   "outputs": [],
   "source": []
  }
 ],
 "metadata": {
  "kernelspec": {
   "display_name": "Python 3",
   "language": "python",
   "name": "python3"
  },
  "language_info": {
   "codemirror_mode": {
    "name": "ipython",
    "version": 3
   },
   "file_extension": ".py",
   "mimetype": "text/x-python",
   "name": "python",
   "nbconvert_exporter": "python",
   "pygments_lexer": "ipython3",
   "version": "3.6.8"
  }
 },
 "nbformat": 4,
 "nbformat_minor": 2
}
